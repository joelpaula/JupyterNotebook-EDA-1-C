{
 "cells": [
  {
   "cell_type": "markdown",
   "metadata": {},
   "source": [
    "# Emparelhamentos de delimitadores\n",
    "-------------------------------------------------------------\n",
    "\n",
    ">**Autor** Joel Paula - nº 93393\n",
    ">\n",
    ">**Professor** Luis Ramada Pereira\n",
    ">\n",
    ">Estrutura de Dados e Algoritmos\n",
    ">\n",
    ">LCD-PL | Ano letivo 2019/2020\n",
    ">\n",
    ">28-03-2020"
   ]
  },
  {
   "cell_type": "markdown",
   "metadata": {},
   "source": [
    "## Enquadramento\n",
    "\n",
    "No âmbito da disciplina de Estrutura de dados e algoritmos, o 1º trabalho pede-nos para criarmos um programa, na linguagem *Python*, capaz de verificar o correto (ou incorreto) emparelhamento de delimitadores numa expressão ou ficheiro de *Python*.\n",
    "\n",
    "Para simplificar o problema, não são consideradas as situações de instruções/expressões multilinha (cujos delimitadores iniciem numa linha e terminem noutra), nem instruções dentro de uma *string*, de uma *docstring* ou de um comentário.\n",
    "\n",
    "«O programa deve indicar na consola a expressão inserida pelo utilizador, acrescida do sufixo *“True”* ou *“False”*, consoante a expressão esteja bem ou mal formada, respetivamente.» (Enunciado do Trabalho 1 de Estrutura de dados e Algoritmos, 2020) [1]\n",
    "\n",
    "Na lista de delimitadores do _Python_ (*Python Software Foundation*, 2020) [2] apenas 3 tipos precisam de emparelhamento: os parêntesis curvos e os retos, bem como as chavetas.\n",
    "\n",
    "Por exemplo, caso o utilizador insira a expressão ``lista = [1, 2]``, será considerada bem emparelhada e, portanto, o resultado na consola deverá ser ``lista = [1, 2] True``.\n",
    "Já a expressão ``lista = [1, 2)``, será considerada mal emparelhada, por não \"fechar\" devidamente o primeiro parêntesis reto, e, portanto, o resultado na consola deverá ser  ``lista = [1, 2) False``.\n",
    "\n",
    "Estes exemplos simples são imediatos e não parecem exigir um algoritmo complicado para a sua resolução. É necessário pensar em expressões mais complexas para compreender a dimensão do problema. Por exemplo ``points = [((1, 2), 'red'), ((3, 4), 'green')]`` combina 2 tipos de delimitadores em 3 níveis de \"profundidade\".  \n",
    "O exemplo indicado no próprio enunciado do trabalho apresenta os 3 tipos de delimitadores, com 4 níveis: ``lista = [(2, 3), {4, 5}, [6, 7], np.array([(2 + 3) * 5])]``. Para este tipo de expressões, nota-se a necessidade de uma estrutura mais complexa, que nos permita emparelhar vários níveis. E se intuitivamente nos possa parecer simples criar um algoritmo de emparelhamento multinível, quando mergulhamos nos detalhes do problema, a solução pode não ser trivial."
   ]
  },
  {
   "cell_type": "markdown",
   "metadata": {},
   "source": [
    "## Estrutura da Solução\n",
    "\n",
    "A solução mais intuitiva é a utilização de uma pilha. Uma pilha é uma estrutura abstrata de dados que é uma coleção do tipo LIFO - Last In First Out (último elemento a entrar é o primeiro a sair).  Isso adapta-se perfeitamente á análise de expressões e emparelhamento de delimitadores de aberto com delimitadores de fecho - ao percorrer os caracteres da expressão, colocamos na pilha cada delimitador aberto e removemos da pilha quando encontramos o delimitador de fecho correspondente. Ao adicionar à pilha estamos a abrir os vários níveis e ao retiramos estamos a fechá-los. No final da expressão verificamos se a pilha está vazia - o que indicaria que todos os delimitadores abertos foram fechados - ou se ainda contém algum elemento - o que indicaria que algum delimitador aberto não foi devidamente emparelhado com um de fecho.\n",
    "\n",
    "Essa é mesmo a solução apontada na bibliografia aconselhada no enunciado do trabalho (Miller & Ranum, 2013) [3].\n",
    "\n",
    "![Imagem da pilha a emparelhar parêntesis e a falhar quando um parêntesis não é emparelhado!](Stack.gif)\n",
    "\n",
    "Para este trabalho criamos uma implementação de uma pilha, com base numa lista (solução também sugerida na bibliografia já citada, no capítulo \"*3.4 The Stack Abstract Data Type*\" ).  \n",
    "Com base nessa pilha, criámos um emparelhador de delimitadores capaz de percorrer todos os caracteres de uma expressão e indicar se todos os delimitadores estão ou não devidamente emparelhados. O algoritmo usado é baseado num similar apresentado na mesma fonte bibliográfica, no capítulo \"*3.4.4 Balanced Symbols (A General Case)*\", não sendo no entanto uma cópia fiel do mesmo (tal não seria sequer possível, tendo em conta que esse algoritmo apenas considera expressões que se componham exclusivamente dos símbolos a emparelhar).  \n",
    "Adicionalmente, criámos uma forma simples de abrir e percorrer todas as linhas de um ficheiro de código fonte *Python*.\n",
    "\n",
    "Finalmente, contruímos uma interface com o utilizador por linha de comando.\n"
   ]
  },
  {
   "cell_type": "markdown",
   "metadata": {},
   "source": [
    "## Solução e testes\n",
    "\n",
    "### Implementação de uma Pilha\n",
    "Começamos por implementar uma pilha com base numa lista:"
   ]
  },
  {
   "cell_type": "code",
   "execution_count": 2,
   "metadata": {
    "scrolled": true
   },
   "outputs": [],
   "source": [
    "class Stack:\n",
    "    def __init__(self):\n",
    "        self.__stack = []\n",
    "\n",
    "    def push(self, item):\n",
    "        self.__stack.append(item)\n",
    "\n",
    "    def pop(self):\n",
    "        return self.__stack.pop()\n",
    "\n",
    "    def peek(self):\n",
    "        return self.__stack[len(self.__stack) - 1]\n",
    "\n",
    "    def is_empty(self):\n",
    "        return len(self.__stack) == 0"
   ]
  },
  {
   "cell_type": "markdown",
   "metadata": {},
   "source": [
    "Tendo em conta os requisitos, uma lista dinâmica não parece ser um problema, uma vez que as operações de adicionar ou remover itens da mesma não serão muito \"pesados\", nem em termos de tempo, nem de memória - a ordem complexidade de ``list.append()`` é O(1) e de ``list.pop()`` também é O(1).  \n",
    "Na verdade, todas as operações desta pilha têm complexidade O(1).  \n",
    "O método ``list.append()`` adiciona um novo elemento no final da lista e o método ``list.pop()`` devolve e remove o último elemento da lista, o que se adapta perfeitamente ao funcionamento da lista. O topo da lista é sempre o último elemento da mesma, daí que o método ``list.peek()`` use o tamanho da lista para chegar ao índice do último elemento da lista.   \n",
    "Nota: optamos por não implementar a operação ``size()``, uma vez que não teria utilidade no nosso programa, mas a sua implementação seria trivial - ``return len(self.__stack)``.\n",
    "\n",
    "Para testar a pilha implementámos uma série de testes unitários:"
   ]
  },
  {
   "cell_type": "code",
   "execution_count": 4,
   "metadata": {},
   "outputs": [],
   "source": [
    "# test_push\n",
    "s = Stack()\n",
    "s.push(\"test\")\n",
    "assert s.peek() == \"test\", \"«push» not working\"\n",
    "\n",
    "# test_pop\n",
    "s = Stack()\n",
    "s.push(\"test\")\n",
    "s.push(7)\n",
    "assert s.pop() == 7, \"«pop» not showing latest pushed item\"\n",
    "\n",
    "# test_peek\n",
    "s = Stack()\n",
    "s.push(7.7)\n",
    "assert s.peek() == 7.7, \"«peek» not looking at latest pushed item\"\n",
    "\n",
    "# test_is_empty\n",
    "s = Stack()\n",
    "assert s.is_empty(), \"stack should be empty on init\"\n",
    "\n",
    "# test_is_empty_after_push_and_pop\n",
    "s = Stack()\n",
    "s.push(\"test\")\n",
    "s.pop()\n",
    "assert s.is_empty(), \"stack should be empty after push and pop\"\n",
    ""
   ]
  },
  {
   "cell_type": "markdown",
   "metadata": {},
   "source": [
    "Espera-se que os testes não devolvam qualquer erro. Sendo que um erro indicará um problema na implementação da classe."
   ]
  },
  {
   "cell_type": "markdown",
   "metadata": {},
   "source": [
    "### Implementação de um emparelhador genérico\n",
    "\n",
    "Para implementação do emparelhador optamos por criar uma classe com métodos estáticos, pois a classe não precisa de manter qualquer estado.\n"
   ]
  },
  {
   "cell_type": "code",
   "execution_count": 5,
   "metadata": {},
   "outputs": [],
   "source": [
    "class ParenthesesChecker:\n",
    "    opening_par = \"{[(\"\n",
    "    closing_par = \"}])\"\n",
    "\n",
    "    @staticmethod\n",
    "    def is_match(opening, closing):\n",
    "        return ParenthesesChecker.opening_par.index(opening) == \\\n",
    "               ParenthesesChecker.closing_par.index(closing)\n",
    "\n",
    "    @staticmethod\n",
    "    def check(expression):\n",
    "        s = Stack()\n",
    "        result = True\n",
    "        for char in expression:\n",
    "            if char in ParenthesesChecker.opening_par:\n",
    "                s.push(char)\n",
    "            elif char in ParenthesesChecker.closing_par:\n",
    "                if s.is_empty() or not ParenthesesChecker.is_match(s.pop(), char):\n",
    "                    result = False\n",
    "                    # Return already and spare us cycling through the whole string\n",
    "                    break\n",
    "\n",
    "        result = result and s.is_empty()\n",
    "        return result\n",
    "\n",
    "    @staticmethod\n",
    "    def check_and_print(expression):\n",
    "        result = ParenthesesChecker.check(expression)\n",
    "        if result:\n",
    "            print(expression.rstrip(), \"\\033[92m {}\\033[00m\".format(\"True\"))\n",
    "        else:\n",
    "            print(expression.rstrip(), \"\\033[31m {}\\033[00m\".format(\"False\"))\n",
    "        return result\n",
    "\n",
    "    @staticmethod\n",
    "    def check_file(filename, print_results=False):\n",
    "        result = True\n",
    "        with open(filename) as fp:\n",
    "            line = fp.readline()\n",
    "            while line:\n",
    "                if print_results:\n",
    "                    result = result and ParenthesesChecker.check_and_print(line)\n",
    "                else:\n",
    "                    result = result and ParenthesesChecker.check(line)\n",
    "                line = fp.readline()\n",
    "        return result\n",
    ""
   ]
  },
  {
   "cell_type": "markdown",
   "metadata": {},
   "source": [
    "- A implementação do verificador de emparelhamento centra-se no seu método ``check``. Este método é responsável por percorrer todos os caracteres da expressão que lhe é entregue e, usando uma pilha, verificar o correto emparelhamento dos delimitadores de abertura e fecho.  \n",
    " - Ao encontrar um delimitador de abertura, insere-o na pilha. \n",
    " - Ao encontrar um delimitador de fecho, retira-o da pilha.  \n",
    "\n",
    " Exemplo 1: se a expressão for ``()``, o primeiro caractere é reconhecido como um delimitador de abertura e é colocado na pilha; o segundo é reconhecido como um delimitador de fecho e isso implica retirar um elemento da pilha. O resultado é ``True`` uma vez que não sobra nenhum elemento na pilha.  \n",
    " Exemplo 2: se a expressão for ``(()``, os dois caracteres iniciais são reconhecidos como delimitadores de abertura e são colocados na pilha; o terceiro é reconhecido como um delimitador de fecho e isso implica retirar um elemento da pilha. Neste caso o resultado seria ``False``, uma vez que sobra um elemento delimitador na pilha, por fechar.  \n",
    "\n",
    " - Se o delimitador de fecho não corresponder ao delimitador de abertura na pilha (por exemplo, no caso ``( ]``), então o algoritmo marca a expressão como não devidamente emparelhada imediatamente.  \n",
    "\n",
    " Optámos por terminar imediatamente a avaliação da expressão assim que é detetado um desemparelhamento, para poupar ciclos de trabalho improdutivos, mas basta remover a instrução ``break`` dentro do ciclo ``for`` para que o mesmo percorra toda a expressão.  \n",
    " O algoritmo despreza todos os caracteres que não correspondam a delimitadores. Seria interessante adicionar suporte para a deteção de blocos de comentários, ou *strings*, extendendo assim a utilização do algoritmo.\n",
    "\n",
    "\n",
    "- O método ``match`` apenas verifica se o delimitador de abertura corresponde ao delimitador de fecho, usando uma simples correspondência do respetivo caractere a um índice na \"lista\" de delimitadores definida inicialmente na classe.\n",
    "\n",
    "\n",
    "- O método ``check_and_print`` estende o método ``check``, colocando na consola a expressão seguida do resultado da avaliação do emparelhamento - o sufixo ``True`` se existe um correto emparelhamento de delimitadores e o ``False`` se não. Adicionalmente, usa as cores verde ou vermelho para colorir o sufixo, consoante o caso.\n",
    "\n",
    "\n",
    "- Finalmente, o método ``check_file`` permite verificar um ficheiro completo, linha por linha. Para isso, abre o ficheiro e percorre cada linha, fazendo a verificação da mesma com o método ``check``. Usando o parâmetro opcional ``print_results``, escolhe se a verificação imprime ou não imprime os resultados na consola, ao selecionar se usa realmente o método ``check``, ou o ``check_and_print``. Por omissão, não se imprime nada na consola.\n"
   ]
  },
  {
   "cell_type": "markdown",
   "metadata": {},
   "source": [
    "### Métodos de teste do emparelhador de genérico\n",
    "\n",
    "Alguns métodos para teste de emparelhamento de expressões, com vários casos de expressões bem e mal emparelhadas:"
   ]
  },
  {
   "cell_type": "code",
   "execution_count": 6,
   "metadata": {
    "scrolled": true
   },
   "outputs": [
    {
     "output_type": "stream",
     "name": "stdout",
     "text": "() \u001b[92m True\u001b[00m\n) \u001b[31m False\u001b[00m\n(] \u001b[31m False\u001b[00m\n(() \u001b[31m False\u001b[00m\n({}[]) \u001b[92m True\u001b[00m\n([{}]) \u001b[92m True\u001b[00m\nlista = (2,3), {4,5}, [6,7], np.array([(2+3)*5]) \u001b[92m True\u001b[00m\nlista = [(2,3), {4,5}, [6,7], np.array([(2+3)*5]) \u001b[31m False\u001b[00m\nlista = [(2,3), {4,5}, [6,7], np.array([(2+3)*5])] \u001b[92m True\u001b[00m\n"
    },
    {
     "output_type": "execute_result",
     "data": {
      "text/plain": "True"
     },
     "metadata": {},
     "execution_count": 6
    }
   ],
   "source": [
    "ParenthesesChecker.check_and_print(\"()\")\n",
    "ParenthesesChecker.check_and_print(\")\")\n",
    "ParenthesesChecker.check_and_print(\"(]\")\n",
    "ParenthesesChecker.check_and_print(\"(()\")\n",
    "ParenthesesChecker.check_and_print(\"({}[])\")\n",
    "ParenthesesChecker.check_and_print(\"([{}])\")\n",
    "ParenthesesChecker.check_and_print(\"lista = (2,3), {4,5}, [6,7], np.array([(2+3)*5])\")\n",
    "ParenthesesChecker.check_and_print(\"lista = [(2,3), {4,5}, [6,7], np.array([(2+3)*5])\")\n",
    "ParenthesesChecker.check_and_print(\"lista = [(2,3), {4,5}, [6,7], np.array([(2+3)*5])]\")"
   ]
  },
  {
   "cell_type": "markdown",
   "metadata": {},
   "source": [
    "Resultados esperados:\n",
    "```\n",
    "()  True\n",
    ")  False\n",
    "(]  False\n",
    "(()  False\n",
    "({}[])  True\n",
    "([{}])  True\n",
    "lista = (2,3), {4,5}, [6,7], np.array([(2+3)*5])  True\n",
    "lista = [(2,3), {4,5}, [6,7], np.array([(2+3)*5])  False\n",
    "lista = [(2,3), {4,5}, [6,7], np.array([(2+3)*5])]  True\n",
    "```"
   ]
  },
  {
   "cell_type": "markdown",
   "metadata": {},
   "source": [
    "\n",
    "Para testar o processamento de ficheiros, temos dois ficheiros na pasta da aplicação, um que não apresenta problemas de emparelhamento de delimitadores ``TestOk.py``, e outro com problemas``TestNok.py``.\n",
    "\n",
    "Utilizando esses ficheiros para testar o método ``check_file``:"
   ]
  },
  {
   "cell_type": "code",
   "execution_count": 7,
   "metadata": {
    "scrolled": true
   },
   "outputs": [
    {
     "output_type": "stream",
     "name": "stdout",
     "text": "##################################### TestOk.py\n# Python program to print \u001b[92m True\u001b[00m\n# colored text and background \u001b[92m True\u001b[00m\ndef prRed(skk): print(\"\\033[91m] {}\\033[00m]\" .format(skk)) \u001b[92m True\u001b[00m\ndef prGreen(skk): print(\"\\033[92m] {}\\033[00m]\" .format(skk)) \u001b[92m True\u001b[00m\ndef prYellow(skk): print(\"\\033[93m] {}\\033[00m]\" .format(skk)) \u001b[92m True\u001b[00m\ndef prLightPurple(skk): print(\"\\033[94m] {}\\033[00m]\" .format(skk)) \u001b[92m True\u001b[00m\ndef prPurple(skk): print(\"\\033[95m] {}\\033[00m]\" .format(skk)) \u001b[92m True\u001b[00m\ndef prCyan(skk): print(\"\\033[96m] {}\\033[00m]\" .format(skk)) \u001b[92m True\u001b[00m\ndef prLightGray(skk): print(\"\\033[97m] {}\\033[00m]\" .format(skk)) \u001b[92m True\u001b[00m\ndef prBlack(skk): print(\"\\033[98m] {}\\033[00m]\" .format(skk)) \u001b[92m True\u001b[00m\n \u001b[92m True\u001b[00m\n \u001b[92m True\u001b[00m\nprCyan(\"Hello World, \") \u001b[92m True\u001b[00m\nprYellow(\"It's\") \u001b[92m True\u001b[00m\nprGreen(\"Geeks\") \u001b[92m True\u001b[00m\nprRed(\"For\") \u001b[92m True\u001b[00m\nprGreen(\"Geeks\") \u001b[92m True\u001b[00m\n \u001b[92m True\u001b[00m\nsetMenu = {\"Eggs\", \"Bacon\"} \u001b[92m True\u001b[00m\nprint(setMenu) \u001b[92m True\u001b[00m\n# > {'Bacon', 'Eggs'} \u001b[92m True\u001b[00m\nsetMenu = set(list(setMenu) + list({\"Spam\"})) \u001b[92m True\u001b[00m\nprint(setMenu) \u001b[92m True\u001b[00m\n# > {'Bacon', 'Spam', 'Eggs'} \u001b[92m True\u001b[00m\nsetAdditions = {\"Lobster\", \"Sausage\"} \u001b[92m True\u001b[00m\nsetMenu = set(list(setMenu) + list(setAdditions)) \u001b[92m True\u001b[00m\nprint(setMenu) \u001b[92m True\u001b[00m\n# > {'Lobster', 'Spam', 'Eggs', 'Sausage', 'Bacon'} \u001b[92m True\u001b[00m\n\n##################################### TestNok.py\nimport unittest \u001b[92m True\u001b[00m\nimport paramParser \u001b[92m True\u001b[00m\n \u001b[92m True\u001b[00m\n \u001b[92m True\u001b[00m\nclass Tests(unittest.TestCase): \u001b[92m True\u001b[00m\n \u001b[92m True\u001b[00m\n    def testOneIntValue(self): \u001b[92m True\u001b[00m\n        result = paramParser.main([\"-d C:\\\\Path\\\\to\\\\yourfile\\\\xxx.m\", \"-p 'xxxParamName'\", \"-v 3\"]) \u001b[92m True\u001b[00m\n        self.assertTrue('xxxParamName.Value= 3', result) \u001b[92m True\u001b[00m\n \u001b[92m True\u001b[00m\n    def testMultipleIntValues(self): \u001b[92m True\u001b[00m\n        result = paramParser.main([\"-d C:\\\\Path\\\\to\\\\yourfile\\\\xxx.m\", \"-p 'xxxParamName'\", \"-v 3\"]) \u001b[92m True\u001b[00m\n        self.assertTrue('[ xxxParamName.Value = [ 1 2 3 ]', result) \u001b[31m False\u001b[00m\n"
    }
   ],
   "source": [
    "print(\"##################################### TestOk.py\")\n",
    "result = ParenthesesChecker.check_file(\"TestOk.py\", True)\n",
    "print(\"\")\n",
    "print(\"##################################### TestNok.py\")\n",
    "result = ParenthesesChecker.check_file(\"TestNok.py\", True)"
   ]
  },
  {
   "cell_type": "markdown",
   "metadata": {},
   "source": [
    "### Interface de linha de comando com utilizador\n",
    "\n",
    "Finalmente, a última parte do programa implementa uma interface de linha de comando com o utilizador, que permite ao utilizador indicar um ficheiro ou uma expressão para avaliação:"
   ]
  },
  {
   "cell_type": "code",
   "execution_count": 11,
   "metadata": {},
   "outputs": [
    {
     "output_type": "stream",
     "name": "stdout",
     "text": "import unittest \u001b[92m True\u001b[00m\nimport paramParser \u001b[92m True\u001b[00m\n \u001b[92m True\u001b[00m\n \u001b[92m True\u001b[00m\nclass Tests(unittest.TestCase): \u001b[92m True\u001b[00m\n \u001b[92m True\u001b[00m\n    def testOneIntValue(self): \u001b[92m True\u001b[00m\n        result = paramParser.main([\"-d C:\\\\Path\\\\to\\\\yourfile\\\\xxx.m\", \"-p 'xxxParamName'\", \"-v 3\"]) \u001b[92m True\u001b[00m\n        self.assertTrue('xxxParamName.Value= 3', result) \u001b[92m True\u001b[00m\n \u001b[92m True\u001b[00m\n    def testMultipleIntValues(self): \u001b[92m True\u001b[00m\n        result = paramParser.main([\"-d C:\\\\Path\\\\to\\\\yourfile\\\\xxx.m\", \"-p 'xxxParamName'\", \"-v 3\"]) \u001b[92m True\u001b[00m\n        self.assertTrue('[ xxxParamName.Value = [ 1 2 3 ]', result) \u001b[31m False\u001b[00m\n"
    }
   ],
   "source": [
    "def process_expression():\n",
    "    result = input(\"por favor, insira uma expressão para avaliação:\")\n",
    "    if result: ParenthesesChecker.check_and_print(result)\n",
    "    return result\n",
    "\n",
    "\n",
    "def process_file():\n",
    "    file_path = input(\"Por favor, indique o caminho para o ficheiro a avaliar:\")\n",
    "    file_path = file_path.strip()\n",
    "    if file_path:\n",
    "        ParenthesesChecker.check_file(file_path, True)\n",
    "    return file_path\n",
    "\n",
    "\n",
    "response = \"?\"\n",
    "while response:\n",
    "    response = input(\"Emparelhamento de delimitadores\\nO que deseja avaliar? Uma (E)xpressão ou um (F)icheiro ?\")\n",
    "    if response == \"E\":\n",
    "        response = process_expression()\n",
    "    elif response == \"F\":\n",
    "        response = process_file()\n",
    ""
   ]
  },
  {
   "cell_type": "markdown",
   "metadata": {},
   "source": [
    "Esta interface permite ao utilizador selecionar se pretende avaliar uma expressão inserindo a letra \"E\", ou um ficheiro inteiro inserindo a letra \"F\".\n",
    "\n",
    "Para avaliar uma expressão a interface pede ao utilizador para inserir a expressão, que é imediatamente avaliada, apresentando a expressão e o resultado na concola.\n",
    "\n",
    "Para o caso de um ficheiro, é pedido o caminho para o ficheiro. O utilizador pode inserir apenas o nome de um ficheiro que exista na mesma pasta onde corre o programa, um caminho relativo à mesma ou um caminho absoluto desde a raiz do sistema.  \n",
    "Esse ficheiro será avaliado linha por linha e cada linha será apresentada na consola, em conjunto com o resultado da avaliação.\n",
    "\n",
    "Para sair do ciclo e do programa, basta ao utilizador inserir uma resposta vazia."
   ]
  },
  {
   "cell_type": "markdown",
   "metadata": {},
   "source": [
    "## Conclusões\n",
    "\n",
    "Este trabalho permitiu-nos exercitar a criação e utilização de uma estrutura de Pilha e um algoritmo que a usa para emparelhar delimitadores e validar expressões. A Pilha é uma estrutura fundamental em ciência da computação, por exemplo usada para guardar o estado de navegação numa aplicação e permitir ao utilizador usar o tão habitual botão \"back/anterior\". \n",
    "\n",
    "\n",
    "A ordem de complexidade das operações da Pilha é O(1), no entanto o emparelhamento de delimitadores obriga-nos a percorrer todos os caracteres da expressão a analisar, pelo que a sua ordem de complexidade é O(n).\n",
    "\n",
    "Não seria difícil estender o nosso algoritmo para permitir-lhe fazer emparelhamento de delimitadores de *strings* (deixando de analisar o que está dentro das mesmas) e reconhecer blocos de comentários. Mesmo o processamento de instruções multilinha poderia ser feito, analisando as linhas todas como se fizessem parte da mesma expressão - partilhando a mesma pilha.\n"
   ]
  },
  {
   "cell_type": "markdown",
   "metadata": {},
   "source": [
    "## Referências bibliográficas\n",
    "\n",
    "[1]: Enunciado do Trabalho 1 de Estrutura de dados e Algoritmos. (8 de Março de 2020). Obtido em 03 28, 2020, de https://e-learning.iscte-iul.pt/bbcswebdav/pid-362232-dt-content-rid-880437_1/courses/2019_03587-2_0324/Trabalho-1-C.pdf\n",
    "\n",
    "[2]: Python Software Foundation. (28 de Março de 2020). 2. Lexical analysis. Obtido de The Python Language Reference: https://docs.python.org/3/reference/lexical_analysis.html#delimiters\n",
    "\n",
    "[3]: Miller, B., & Ranum, D. (2013). Problem Solving with Algorithms and Data Structures using Python - Release 3.0.\n"
   ]
  }
 ],
 "metadata": {
  "kernelspec": {
   "display_name": "Python 3",
   "language": "python",
   "name": "python3"
  },
  "language_info": {
   "codemirror_mode": {
    "name": "ipython",
    "version": 3
   },
   "file_extension": ".py",
   "mimetype": "text/x-python",
   "name": "python",
   "nbconvert_exporter": "python",
   "pygments_lexer": "ipython3",
   "version": "3.7.3-final"
  }
 },
 "nbformat": 4,
 "nbformat_minor": 4
}